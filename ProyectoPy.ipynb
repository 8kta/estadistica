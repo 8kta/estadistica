{
 "cells": [
  {
   "cell_type": "markdown",
   "metadata": {},
   "source": [
    "# Proyecto de estadística. UNAM 2020"
   ]
  },
  {
   "cell_type": "markdown",
   "metadata": {},
   "source": [
    "## Lenguaje Python"
   ]
  },
  {
   "cell_type": "code",
   "execution_count": 1,
   "metadata": {},
   "outputs": [],
   "source": [
    "import pandas as pd #importaremos panda para leer los arvhivos csv\n",
    "import numpy as np"
   ]
  },
  {
   "cell_type": "code",
   "execution_count": 6,
   "metadata": {},
   "outputs": [
    {
     "data": {
      "text/plain": [
       "(2589508, 38)"
      ]
     },
     "execution_count": 6,
     "metadata": {},
     "output_type": "execute_result"
    }
   ],
   "source": [
    "db = pd.read_csv('201113COVID19MEXICO.csv',sep=',', header='infer',encoding = \"cp1252\",engine='python')\n",
    "db.shape"
   ]
  },
  {
   "cell_type": "code",
   "execution_count": 7,
   "metadata": {},
   "outputs": [
    {
     "name": "stdout",
     "output_type": "stream",
     "text": [
      "FECHA_ACTUALIZACION\n",
      "ID_REGISTRO\n",
      "ORIGEN\n",
      "SECTOR\n",
      "ENTIDAD_UM\n",
      "SEXO\n",
      "ENTIDAD_NAC\n",
      "ENTIDAD_RES\n",
      "MUNICIPIO_RES\n",
      "TIPO_PACIENTE\n",
      "FECHA_INGRESO\n",
      "FECHA_SINTOMAS\n",
      "FECHA_DEF\n",
      "INTUBADO\n",
      "NEUMONIA\n",
      "EDAD\n",
      "NACIONALIDAD\n",
      "EMBARAZO\n",
      "HABLA_LENGUA_INDIG\n",
      "INDIGENA\n",
      "DIABETES\n",
      "EPOC\n",
      "ASMA\n",
      "INMUSUPR\n",
      "HIPERTENSION\n",
      "OTRA_COM\n",
      "CARDIOVASCULAR\n",
      "OBESIDAD\n",
      "RENAL_CRONICA\n",
      "TABAQUISMO\n",
      "OTRO_CASO\n",
      "TOMA_MUESTRA\n",
      "RESULTADO_LAB\n",
      "CLASIFICACION_FINAL\n",
      "MIGRANTE\n",
      "PAIS_NACIONALIDAD\n",
      "PAIS_ORIGEN\n",
      "UCI\n"
     ]
    }
   ],
   "source": [
    "for a in db:\n",
    "    print(a)"
   ]
  },
  {
   "cell_type": "code",
   "execution_count": null,
   "metadata": {},
   "outputs": [],
   "source": []
  }
 ],
 "metadata": {
  "kernelspec": {
   "display_name": "Python 3",
   "language": "python",
   "name": "python3"
  },
  "language_info": {
   "codemirror_mode": {
    "name": "ipython",
    "version": 3
   },
   "file_extension": ".py",
   "mimetype": "text/x-python",
   "name": "python",
   "nbconvert_exporter": "python",
   "pygments_lexer": "ipython3",
   "version": "3.8.3"
  }
 },
 "nbformat": 4,
 "nbformat_minor": 4
}
